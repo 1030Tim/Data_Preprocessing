{
 "cells": [
  {
   "cell_type": "code",
   "execution_count": 1,
   "id": "1199dfe3",
   "metadata": {},
   "outputs": [],
   "source": [
    "import pandas as pd\n",
    "import matplotlib.pyplot as plt\n",
    "import numpy as np"
   ]
  },
  {
   "cell_type": "code",
   "execution_count": null,
   "id": "51d9c12e",
   "metadata": {},
   "outputs": [],
   "source": [
    "df = pd.read_csv(\"train.csv\")\n",
    "# print(df.isnull().sum().sum())\n",
    "df"
   ]
  },
  {
   "cell_type": "code",
   "execution_count": null,
   "id": "5285956b",
   "metadata": {},
   "outputs": [],
   "source": [
    "from sklearn.impute import SimpleImputer \n",
    "imputer_model = SimpleImputer(missing_values=np.nan,strategy=\"mean\")\n",
    "imputer_model.fit(df)\n"
   ]
  },
  {
   "cell_type": "code",
   "execution_count": null,
   "id": "cdb03f69",
   "metadata": {},
   "outputs": [],
   "source": [
    "df = pd.DataFrame(imputer_model.transform(df),columns=df.columns,index = df.index)\n",
    "df.describe()"
   ]
  },
  {
   "cell_type": "code",
   "execution_count": null,
   "id": "5371d849",
   "metadata": {},
   "outputs": [],
   "source": [
    "from sklearn.preprocessing import StandardScaler\n",
    "Scaler_df = df.copy()\n",
    "Scaler_model = StandardScaler()\n",
    "Scaler_model.fit(Scaler_df)"
   ]
  },
  {
   "cell_type": "code",
   "execution_count": null,
   "id": "5258f03f",
   "metadata": {},
   "outputs": [],
   "source": [
    "Scaler_df = pd.DataFrame(Scaler_model.transform(Scaler_df),columns=list(range(0,Scaler_df.shape[1])))\n",
    "Scaler_df.describe()"
   ]
  },
  {
   "cell_type": "code",
   "execution_count": null,
   "id": "ddbbbb34",
   "metadata": {},
   "outputs": [],
   "source": [
    "y = pd.read_csv(\"train_labels.csv\")\n",
    "y.columns[0]\n",
    "df_copy = pd.concat([Scaler_df,y],axis=1)\n",
    "corr_df = df_copy.corr()\n",
    "most_corr = corr_df[0].sort_values(ascending=False)[:10]"
   ]
  },
  {
   "cell_type": "code",
   "execution_count": null,
   "id": "fa7a1820",
   "metadata": {},
   "outputs": [],
   "source": [
    "import seaborn as sns"
   ]
  },
  {
   "cell_type": "code",
   "execution_count": null,
   "id": "4074735f",
   "metadata": {},
   "outputs": [],
   "source": [
    "most_corr = df_copy[most_corr.index].corr()\n",
    "sns.heatmap(data=most_corr,cmap='coolwarm',annot=True,fmt='.2f')"
   ]
  }
 ],
 "metadata": {
  "kernelspec": {
   "display_name": "sklearn-env",
   "language": "python",
   "name": "python3"
  },
  "language_info": {
   "codemirror_mode": {
    "name": "ipython",
    "version": 3
   },
   "file_extension": ".py",
   "mimetype": "text/x-python",
   "name": "python",
   "nbconvert_exporter": "python",
   "pygments_lexer": "ipython3",
   "version": "3.12.7"
  }
 },
 "nbformat": 4,
 "nbformat_minor": 5
}

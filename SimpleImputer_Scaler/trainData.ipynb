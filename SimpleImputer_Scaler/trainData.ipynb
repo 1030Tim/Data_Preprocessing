{
 "cells": [
  {
   "cell_type": "code",
   "execution_count": 1,
   "id": "25d0a9a4",
   "metadata": {},
   "outputs": [
    {
     "name": "stdout",
     "output_type": "stream",
     "text": [
      "        Name   Age  Gender      Score      City\n",
      "0  Student_0  21.0  Female  89.798488  Taichung\n",
      "1  Student_1  18.0    Male  78.967743    Tainan\n",
      "2  Student_2  19.0  Female  57.167489  Taichung\n",
      "3  Student_3  21.0    Male        NaN    Tainan\n",
      "4  Student_4  17.0    None  78.272234    Tainan\n"
     ]
    }
   ],
   "source": [
    "import pandas as pd\n",
    "import numpy as np\n",
    "import random\n",
    "\n",
    "# 設定亂數種子確保可重現\n",
    "random.seed(42)\n",
    "np.random.seed(42)\n",
    "\n",
    "# 資料數量\n",
    "n = 150\n",
    "\n",
    "# 隨機資料\n",
    "names = [f\"Student_{i}\" for i in range(n)]\n",
    "ages = np.random.randint(15, 22, size=n).astype(float)\n",
    "genders = np.random.choice(['Male', 'Female', None], size=n, p=[0.45, 0.45, 0.10])\n",
    "scores = np.random.normal(loc=75, scale=10, size=n)\n",
    "scores[np.random.choice(n, 20, replace=False)] = np.nan  # 故意加一些None值\n",
    "\n",
    "cities = np.random.choice(['Taipei', 'Kaohsiung', 'Tainan', 'Taichung', None], size=n, p=[0.25, 0.25, 0.2, 0.2, 0.1])\n",
    "\n",
    "# 故意加上一些缺失值\n",
    "for i in np.random.choice(n, 15, replace=False):\n",
    "    ages[i] = np.nan\n",
    "\n",
    "# 建立DataFrame\n",
    "df = pd.DataFrame({\n",
    "    'Name': names,\n",
    "    'Age': ages,\n",
    "    'Gender': genders,\n",
    "    'Score': scores,\n",
    "    'City': cities\n",
    "})\n",
    "\n",
    "# 儲存為CSV檔案\n",
    "df.to_csv('train.csv', index=False)\n",
    "\n",
    "# 顯示前幾筆資料（選擇性）\n",
    "print(df.head())\n"
   ]
  }
 ],
 "metadata": {
  "kernelspec": {
   "display_name": "sklearn-env",
   "language": "python",
   "name": "python3"
  },
  "language_info": {
   "codemirror_mode": {
    "name": "ipython",
    "version": 3
   },
   "file_extension": ".py",
   "mimetype": "text/x-python",
   "name": "python",
   "nbconvert_exporter": "python",
   "pygments_lexer": "ipython3",
   "version": "3.12.7"
  }
 },
 "nbformat": 4,
 "nbformat_minor": 5
}

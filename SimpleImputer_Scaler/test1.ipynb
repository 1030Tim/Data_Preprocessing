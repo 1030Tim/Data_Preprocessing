{
 "cells": [
  {
   "cell_type": "code",
   "execution_count": 121,
   "id": "3b9297ec",
   "metadata": {},
   "outputs": [],
   "source": [
    "import pandas as pd\n",
    "import numpy as np\n",
    "\n",
    "\n",
    "data = [\n",
    "    [160, 30000],\n",
    "    [165, 32000],\n",
    "    [170,     None],\n",
    "    [None,    42000],\n",
    "    [180,     50000],\n",
    "    [175,     48000],\n",
    "    [168,     None],\n",
    "    [172,     46000],\n",
    "    [None,    44000],\n",
    "    [169,     41000],\n",
    "]\n",
    "\n",
    "df = pd.DataFrame(data, columns=[\"Height\", \"Salary\"])\n",
    "ord_df = df.copy()"
   ]
  },
  {
   "cell_type": "code",
   "execution_count": 122,
   "id": "081da27c",
   "metadata": {},
   "outputs": [
    {
     "name": "stdout",
     "output_type": "stream",
     "text": [
      "4\n"
     ]
    }
   ],
   "source": [
    "print(df.isnull().sum().sum())"
   ]
  },
  {
   "cell_type": "code",
   "execution_count": 123,
   "id": "c59a0ce7",
   "metadata": {},
   "outputs": [],
   "source": [
    "from sklearn.impute import SimpleImputer\n",
    "model = SimpleImputer()\n",
    "model.fit(df)\n",
    "df = model.transform(df)"
   ]
  },
  {
   "cell_type": "code",
   "execution_count": 124,
   "id": "29cdd439",
   "metadata": {},
   "outputs": [
    {
     "data": {
      "text/html": [
       "<div>\n",
       "<style scoped>\n",
       "    .dataframe tbody tr th:only-of-type {\n",
       "        vertical-align: middle;\n",
       "    }\n",
       "\n",
       "    .dataframe tbody tr th {\n",
       "        vertical-align: top;\n",
       "    }\n",
       "\n",
       "    .dataframe thead th {\n",
       "        text-align: right;\n",
       "    }\n",
       "</style>\n",
       "<table border=\"1\" class=\"dataframe\">\n",
       "  <thead>\n",
       "    <tr style=\"text-align: right;\">\n",
       "      <th></th>\n",
       "      <th>Height</th>\n",
       "      <th>Salary</th>\n",
       "    </tr>\n",
       "  </thead>\n",
       "  <tbody>\n",
       "    <tr>\n",
       "      <th>0</th>\n",
       "      <td>160.000</td>\n",
       "      <td>30000.0</td>\n",
       "    </tr>\n",
       "    <tr>\n",
       "      <th>1</th>\n",
       "      <td>165.000</td>\n",
       "      <td>32000.0</td>\n",
       "    </tr>\n",
       "    <tr>\n",
       "      <th>2</th>\n",
       "      <td>170.000</td>\n",
       "      <td>41625.0</td>\n",
       "    </tr>\n",
       "    <tr>\n",
       "      <th>3</th>\n",
       "      <td>169.875</td>\n",
       "      <td>42000.0</td>\n",
       "    </tr>\n",
       "    <tr>\n",
       "      <th>4</th>\n",
       "      <td>180.000</td>\n",
       "      <td>50000.0</td>\n",
       "    </tr>\n",
       "    <tr>\n",
       "      <th>5</th>\n",
       "      <td>175.000</td>\n",
       "      <td>48000.0</td>\n",
       "    </tr>\n",
       "    <tr>\n",
       "      <th>6</th>\n",
       "      <td>168.000</td>\n",
       "      <td>41625.0</td>\n",
       "    </tr>\n",
       "    <tr>\n",
       "      <th>7</th>\n",
       "      <td>172.000</td>\n",
       "      <td>46000.0</td>\n",
       "    </tr>\n",
       "    <tr>\n",
       "      <th>8</th>\n",
       "      <td>169.875</td>\n",
       "      <td>44000.0</td>\n",
       "    </tr>\n",
       "    <tr>\n",
       "      <th>9</th>\n",
       "      <td>169.000</td>\n",
       "      <td>41000.0</td>\n",
       "    </tr>\n",
       "  </tbody>\n",
       "</table>\n",
       "</div>"
      ],
      "text/plain": [
       "    Height   Salary\n",
       "0  160.000  30000.0\n",
       "1  165.000  32000.0\n",
       "2  170.000  41625.0\n",
       "3  169.875  42000.0\n",
       "4  180.000  50000.0\n",
       "5  175.000  48000.0\n",
       "6  168.000  41625.0\n",
       "7  172.000  46000.0\n",
       "8  169.875  44000.0\n",
       "9  169.000  41000.0"
      ]
     },
     "execution_count": 124,
     "metadata": {},
     "output_type": "execute_result"
    }
   ],
   "source": [
    "df = pd.DataFrame(df, columns=[\"Height\", \"Salary\"])\n",
    "df"
   ]
  },
  {
   "cell_type": "code",
   "execution_count": 125,
   "id": "d363ca46",
   "metadata": {},
   "outputs": [
    {
     "name": "stdout",
     "output_type": "stream",
     "text": [
      "[[-1.94085034 -1.92715592]\n",
      " [-0.95814131 -1.59560221]\n",
      " [ 0.02456773  0.        ]\n",
      " [ 0.          0.06216632]\n",
      " [ 1.98998579  1.38838114]\n",
      " [ 1.00727676  1.05682744]\n",
      " [-0.36851589  0.        ]\n",
      " [ 0.41765134  0.72527373]\n",
      " [ 0.          0.39372003]\n",
      " [-0.17197408 -0.10361053]]\n"
     ]
    }
   ],
   "source": [
    "from sklearn.preprocessing import StandardScaler # z = (x - 平均)/標準差 \n",
    "model = StandardScaler()\n",
    "model.fit(df)\n",
    "print(model.fit_transform(df))"
   ]
  },
  {
   "cell_type": "code",
   "execution_count": 126,
   "id": "45bc5705",
   "metadata": {},
   "outputs": [
    {
     "name": "stdout",
     "output_type": "stream",
     "text": [
      "[[31716.15463544]]\n",
      "[-148038.67394978]\n",
      "88.7%\n"
     ]
    }
   ],
   "source": [
    "from sklearn.linear_model import LinearRegression\n",
    "model = LinearRegression()\n",
    "x = df[[\"Height\"]].to_numpy()\n",
    "y = df[[\"Salary\"]].to_numpy()\n",
    "model.fit(x,y)\n",
    "w = model.coef_\n",
    "b = model.intercept_\n",
    "print(model.predict([[161]]))\n",
    "print(model.intercept_)\n",
    "print(f\"{model.score(x,y)*100:.1f}%\")"
   ]
  },
  {
   "cell_type": "code",
   "execution_count": 130,
   "id": "b1f815e1",
   "metadata": {},
   "outputs": [
    {
     "data": {
      "image/png": "[encoded data removed]",
      "text/plain": [
       "<Figure size 640x480 with 1 Axes>"
      ]
     },
     "metadata": {},
     "output_type": "display_data"
    }
   ],
   "source": [
    "import matplotlib.pyplot as plt\n",
    "df = pd.DataFrame(df)\n",
    "y_pred = w*x+b\n",
    "plt.scatter(df[\"Height\"],df[\"Salary\"],edgecolors=\"black\",label=\"Height\")\n",
    "plt.plot(x,y_pred,color=\"red\",label=\"Salary\")\n",
    "plt.title(\"Regression Line: Height vs Salary\")\n",
    "plt.xlabel(\"Height (cm)\")\n",
    "plt.ylabel(\"Salary ($)\")\n",
    "plt.legend()\n",
    "plt.show()"
   ]
  }
 ],
 "metadata": {
  "kernelspec": {
   "display_name": "sklearn-env",
   "language": "python",
   "name": "python3"
  },
  "language_info": {
   "codemirror_mode": {
    "name": "ipython",
    "version": 3
   },
   "file_extension": ".py",
   "mimetype": "text/x-python",
   "name": "python",
   "nbconvert_exporter": "python",
   "pygments_lexer": "ipython3",
   "version": "3.12.7"
  }
 },
 "nbformat": 4,
 "nbformat_minor": 5
}

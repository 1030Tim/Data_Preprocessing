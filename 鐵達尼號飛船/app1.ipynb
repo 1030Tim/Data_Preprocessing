{
 "cells": [
  {
   "cell_type": "code",
   "execution_count": 193,
   "id": "00ad801a",
   "metadata": {},
   "outputs": [],
   "source": [
    "import pandas as pd\n",
    "train = pd.read_csv(\"train.csv\",encoding=\"utf-8\")\n",
    "test = pd.read_csv(\"test.csv\",encoding=\"utf-8\")"
   ]
  },
  {
   "cell_type": "code",
   "execution_count": 194,
   "id": "d47f6883",
   "metadata": {},
   "outputs": [
    {
     "name": "stdout",
     "output_type": "stream",
     "text": [
      "2324\n",
      "1117\n"
     ]
    }
   ],
   "source": [
    "train[\"Transported\"] = train[\"Transported\"].astype(\"int64\")\n",
    "print(train.isna().sum().sum())\n",
    "print(test.isna().sum().sum())"
   ]
  },
  {
   "cell_type": "code",
   "execution_count": 195,
   "id": "4559df9a",
   "metadata": {},
   "outputs": [
    {
     "data": {
      "text/plain": [
       "PassengerId       0\n",
       "HomePlanet      201\n",
       "CryoSleep       217\n",
       "Cabin           199\n",
       "Destination     182\n",
       "Age               0\n",
       "VIP             203\n",
       "RoomService       0\n",
       "FoodCourt         0\n",
       "ShoppingMall      0\n",
       "Spa               0\n",
       "VRDeck            0\n",
       "Name            200\n",
       "Transported       0\n",
       "dtype: int64"
      ]
     },
     "execution_count": 195,
     "metadata": {},
     "output_type": "execute_result"
    }
   ],
   "source": [
    "def clean_Number_none(df):\n",
    "    median = df.median(numeric_only=True)\n",
    "    df = df.fillna(median)\n",
    "    return df\n",
    "train = clean_Number_none(train)\n",
    "test = clean_Number_none(test)\n",
    "\n",
    "train.isna().sum()"
   ]
  },
  {
   "cell_type": "code",
   "execution_count": 196,
   "id": "e328b636",
   "metadata": {},
   "outputs": [
    {
     "name": "stderr",
     "output_type": "stream",
     "text": [
      "/var/folders/rm/lxdw61x160q56gkm2nyvfrsh0000gn/T/ipykernel_10382/3193726310.py:3: FutureWarning: Downcasting object dtype arrays on .fillna, .ffill, .bfill is deprecated and will change in a future version. Call result.infer_objects(copy=False) instead. To opt-in to the future behavior, set `pd.set_option('future.no_silent_downcasting', True)`\n",
      "  df = df.fillna(mos).infer_objects(copy=False)\n",
      "/var/folders/rm/lxdw61x160q56gkm2nyvfrsh0000gn/T/ipykernel_10382/3193726310.py:3: FutureWarning: Downcasting object dtype arrays on .fillna, .ffill, .bfill is deprecated and will change in a future version. Call result.infer_objects(copy=False) instead. To opt-in to the future behavior, set `pd.set_option('future.no_silent_downcasting', True)`\n",
      "  df = df.fillna(mos).infer_objects(copy=False)\n"
     ]
    }
   ],
   "source": [
    "def Clean_string_None(df):\n",
    "    mos = df.value_counts().idxmax()\n",
    "    df = df.fillna(mos).infer_objects(copy=False)\n",
    "    return df\n",
    "\n",
    "train[\"VIP\"] = Clean_string_None(train[\"VIP\"]).astype(\"int64\")\n",
    "test[\"VIP\"] = Clean_string_None(test[\"VIP\"]).astype(\"int64\")\n",
    "\n"
   ]
  },
  {
   "cell_type": "code",
   "execution_count": 197,
   "id": "e7054b3d",
   "metadata": {},
   "outputs": [
    {
     "name": "stderr",
     "output_type": "stream",
     "text": [
      "/var/folders/rm/lxdw61x160q56gkm2nyvfrsh0000gn/T/ipykernel_10382/3193726310.py:3: FutureWarning: Downcasting object dtype arrays on .fillna, .ffill, .bfill is deprecated and will change in a future version. Call result.infer_objects(copy=False) instead. To opt-in to the future behavior, set `pd.set_option('future.no_silent_downcasting', True)`\n",
      "  df = df.fillna(mos).infer_objects(copy=False)\n",
      "/var/folders/rm/lxdw61x160q56gkm2nyvfrsh0000gn/T/ipykernel_10382/3193726310.py:3: FutureWarning: Downcasting object dtype arrays on .fillna, .ffill, .bfill is deprecated and will change in a future version. Call result.infer_objects(copy=False) instead. To opt-in to the future behavior, set `pd.set_option('future.no_silent_downcasting', True)`\n",
      "  df = df.fillna(mos).infer_objects(copy=False)\n"
     ]
    }
   ],
   "source": [
    "train[\"CryoSleep\"] = Clean_string_None(train[\"CryoSleep\"])\n",
    "train[\"CryoSleep\"] = train[\"CryoSleep\"].astype(\"int64\")\n",
    "test[\"CryoSleep\"] = Clean_string_None(test[\"CryoSleep\"])\n",
    "test[\"CryoSleep\"] = test[\"CryoSleep\"].astype(\"int64\")"
   ]
  },
  {
   "cell_type": "code",
   "execution_count": 198,
   "id": "1229facc",
   "metadata": {},
   "outputs": [
    {
     "data": {
      "text/plain": [
       "PassengerId       0\n",
       "HomePlanet       87\n",
       "CryoSleep         0\n",
       "Cabin           100\n",
       "Destination      92\n",
       "Age               0\n",
       "VIP               0\n",
       "RoomService       0\n",
       "FoodCourt         0\n",
       "ShoppingMall      0\n",
       "Spa               0\n",
       "VRDeck            0\n",
       "Name             94\n",
       "dtype: int64"
      ]
     },
     "execution_count": 198,
     "metadata": {},
     "output_type": "execute_result"
    }
   ],
   "source": [
    "train.isna().sum()\n",
    "test.isna().sum()"
   ]
  },
  {
   "cell_type": "code",
   "execution_count": 199,
   "id": "46b39942",
   "metadata": {},
   "outputs": [],
   "source": [
    "train = train.drop(\"Destination\",axis=1)\n",
    "test = test.drop(\"Destination\",axis=1)"
   ]
  },
  {
   "cell_type": "code",
   "execution_count": 200,
   "id": "d6a1a85d",
   "metadata": {},
   "outputs": [],
   "source": [
    "Encoder = pd.get_dummies(train[\"HomePlanet\"]).astype(\"int64\")\n",
    "train = pd.concat([train,Encoder],axis=1)\n",
    "Encoder = pd.get_dummies(test[\"HomePlanet\"]).astype(\"int64\")\n",
    "test = pd.concat([test,Encoder],axis=1)\n",
    "train = train.drop(\"HomePlanet\",axis=1)\n",
    "test = test.drop(\"HomePlanet\",axis=1)\n"
   ]
  },
  {
   "cell_type": "code",
   "execution_count": 201,
   "id": "11b42ef7",
   "metadata": {},
   "outputs": [],
   "source": [
    "train[\"Cabin\"] = Clean_string_None(train[\"Cabin\"])\n",
    "test[\"Cabin\"] = Clean_string_None(test[\"Cabin\"])\n",
    "\n"
   ]
  },
  {
   "cell_type": "code",
   "execution_count": 202,
   "id": "fc01e5b4",
   "metadata": {},
   "outputs": [],
   "source": [
    "def name_flow(s):\n",
    "    name = s.split(\"/\")[-1]\n",
    "    return name\n",
    "Encoder = pd.get_dummies(train[\"Cabin\"].apply(name_flow)).astype(\"int64\")\n",
    "train = pd.concat([train,Encoder],axis=1)\n",
    "train = train.drop(\"Cabin\",axis=1)\n",
    "\n",
    "Encoder = pd.get_dummies(test[\"Cabin\"].apply(name_flow)).astype(\"int64\")\n",
    "test = pd.concat([test,Encoder],axis=1)\n",
    "test = test.drop(\"Cabin\",axis=1)"
   ]
  },
  {
   "cell_type": "code",
   "execution_count": 203,
   "id": "ab484b99",
   "metadata": {},
   "outputs": [],
   "source": [
    "train = train.drop([\"PassengerId\",\"Name\"],axis=1)\n",
    "test = test.drop(\"Name\",axis=1)"
   ]
  },
  {
   "cell_type": "code",
   "execution_count": null,
   "id": "091c02ea",
   "metadata": {},
   "outputs": [
    {
     "data": {
      "text/plain": [
       "0         0.0\n",
       "1       109.0\n",
       "2        43.0\n",
       "3         0.0\n",
       "4       303.0\n",
       "        ...  \n",
       "8688      0.0\n",
       "8689      0.0\n",
       "8690      0.0\n",
       "8691      0.0\n",
       "8692    126.0\n",
       "Name: RoomService, Length: 8693, dtype: float64"
      ]
     },
     "execution_count": 205,
     "metadata": {},
     "output_type": "execute_result"
    }
   ],
   "source": [
    "from sklearn.preprocessing import StandardScaler\n",
    "Z = StandardScaler(copy=False)\n",
    "Z.fit(train[\"RoomService\"])\n",
    "\n",
    "train[\"RoomService\"]"
   ]
  },
  {
   "cell_type": "code",
   "execution_count": null,
   "id": "9d6c2c4f",
   "metadata": {},
   "outputs": [],
   "source": []
  }
 ],
 "metadata": {
  "kernelspec": {
   "display_name": "sklearn-env",
   "language": "python",
   "name": "python3"
  },
  "language_info": {
   "codemirror_mode": {
    "name": "ipython",
    "version": 3
   },
   "file_extension": ".py",
   "mimetype": "text/x-python",
   "name": "python",
   "nbconvert_exporter": "python",
   "pygments_lexer": "ipython3",
   "version": "3.12.7"
  }
 },
 "nbformat": 4,
 "nbformat_minor": 5
}
